{
 "cells": [
  {
   "cell_type": "markdown",
   "metadata": {},
   "source": [
    "# Quick analysis and similarity network building"
   ]
  },
  {
   "cell_type": "code",
   "execution_count": 1,
   "metadata": {
    "collapsed": false
   },
   "outputs": [
    {
     "name": "stdout",
     "output_type": "stream",
     "text": [
      "Populating the interactive namespace from numpy and matplotlib\n"
     ]
    }
   ],
   "source": [
    "%pylab inline\n",
    "import matplotlib.pyplot as plt\n",
    "import pandas as pd, numpy as np\n",
    "import seaborn as sns\n",
    "sns.set(style=\"whitegrid\")\n",
    "import sqlite3"
   ]
  },
  {
   "cell_type": "markdown",
   "metadata": {},
   "source": [
    "# Data"
   ]
  },
  {
   "cell_type": "markdown",
   "metadata": {},
   "source": [
    "The data used here are downloaded data from the [Million Song Dataset](https://labrosa.ee.columbia.edu/millionsong/): \n",
    "* SQLite database containing most metadata about each track (NEW VERSION 03/27/2011).\n",
    "* SQLite database linking artist ID to the tags (Echo Nest and musicbrainz ones).\n",
    "\n",
    "Pandas can read data directly from the SQLite databases. \n",
    "\n",
    "## Connect to both db"
   ]
  },
  {
   "cell_type": "code",
   "execution_count": 2,
   "metadata": {
    "collapsed": false
   },
   "outputs": [],
   "source": [
    "conn_terms = sqlite3.connect(\"data/artist_term.db\")"
   ]
  },
  {
   "cell_type": "code",
   "execution_count": 3,
   "metadata": {
    "collapsed": true
   },
   "outputs": [],
   "source": [
    "conn_artists = sqlite3.connect(\"data/track_metadata.db\")"
   ]
  },
  {
   "cell_type": "markdown",
   "metadata": {},
   "source": [
    "## Get the mbtags\n",
    "These are human selected tags from musicbrainz.org. They include a large variety of tags: countries, genre, languages."
   ]
  },
  {
   "cell_type": "code",
   "execution_count": 4,
   "metadata": {
    "collapsed": true
   },
   "outputs": [],
   "source": [
    "mbtags = pd.read_sql(\"SELECT * FROM artist_mbtag\",conn_terms)"
   ]
  },
  {
   "cell_type": "code",
   "execution_count": 5,
   "metadata": {
    "collapsed": false
   },
   "outputs": [
    {
     "ename": "NameError",
     "evalue": "name 'cnt_art_tag' is not defined",
     "output_type": "error",
     "traceback": [
      "\u001b[0;31m---------------------------------------------------------------------------\u001b[0m",
      "\u001b[0;31mNameError\u001b[0m                                 Traceback (most recent call last)",
      "\u001b[0;32m<ipython-input-5-bf78d568e9bb>\u001b[0m in \u001b[0;36m<module>\u001b[0;34m()\u001b[0m\n\u001b[0;32m----> 1\u001b[0;31m \u001b[0mprint\u001b[0m\u001b[0;34m(\u001b[0m\u001b[0;34m\"{:,}\"\u001b[0m\u001b[0;34m.\u001b[0m\u001b[0mformat\u001b[0m\u001b[0;34m(\u001b[0m\u001b[0mlen\u001b[0m\u001b[0;34m(\u001b[0m\u001b[0mmbtags\u001b[0m\u001b[0;34m[\u001b[0m\u001b[0;34m\"artist_id\"\u001b[0m\u001b[0;34m]\u001b[0m\u001b[0;34m.\u001b[0m\u001b[0munique\u001b[0m\u001b[0;34m(\u001b[0m\u001b[0;34m)\u001b[0m\u001b[0;34m)\u001b[0m\u001b[0;34m)\u001b[0m\u001b[0;34m,\u001b[0m \u001b[0;34m\"unique artists, and\"\u001b[0m\u001b[0;34m,\u001b[0m       \u001b[0;34m\"{:,}\"\u001b[0m\u001b[0;34m.\u001b[0m\u001b[0mformat\u001b[0m\u001b[0;34m(\u001b[0m\u001b[0mlen\u001b[0m\u001b[0;34m(\u001b[0m\u001b[0mmbtags\u001b[0m\u001b[0;34m[\u001b[0m\u001b[0;34m\"mbtag\"\u001b[0m\u001b[0;34m]\u001b[0m\u001b[0;34m.\u001b[0m\u001b[0munique\u001b[0m\u001b[0;34m(\u001b[0m\u001b[0;34m)\u001b[0m\u001b[0;34m)\u001b[0m\u001b[0;34m)\u001b[0m\u001b[0;34m,\u001b[0m \u001b[0;34m\"unique tags;\"\u001b[0m\u001b[0;34m,\u001b[0m      \u001b[0;34m\"with an average of {0:0.2f}\"\u001b[0m\u001b[0;34m.\u001b[0m\u001b[0mformat\u001b[0m\u001b[0;34m(\u001b[0m\u001b[0mcnt_art_tag\u001b[0m\u001b[0;34m[\u001b[0m\u001b[0;34m\"countTags\"\u001b[0m\u001b[0;34m]\u001b[0m\u001b[0;34m.\u001b[0m\u001b[0mmean\u001b[0m\u001b[0;34m(\u001b[0m\u001b[0;34m)\u001b[0m\u001b[0;34m)\u001b[0m\u001b[0;34m,\u001b[0m \u001b[0;34m\"per artist\"\u001b[0m\u001b[0;34m)\u001b[0m\u001b[0;34m\u001b[0m\u001b[0m\n\u001b[0m",
      "\u001b[0;31mNameError\u001b[0m: name 'cnt_art_tag' is not defined"
     ]
    }
   ],
   "source": [
    "print(\"{:,}\".format(len(mbtags[\"artist_id\"].unique())), \"unique artists, and\", \\\n",
    "      \"{:,}\".format(len(mbtags[\"mbtag\"].unique())), \"unique tags;\", \\\n",
    "     \"with an average of {0:0.2f}\".format(cnt_art_tag[\"countTags\"].mean()), \"per artist\")"
   ]
  },
  {
   "cell_type": "code",
   "execution_count": null,
   "metadata": {
    "collapsed": true
   },
   "outputs": [],
   "source": [
    "cnt_art_tag = pd.pivot_table(mbtags,values=\"mbtag\",index=\"artist_id\",\\\n",
    "                             aggfunc=\"count\").reset_index().rename(columns={\"mbtag\":\"countTags\"})"
   ]
  },
  {
   "cell_type": "code",
   "execution_count": null,
   "metadata": {
    "collapsed": false
   },
   "outputs": [],
   "source": [
    "cnt_art_tag.hist(bins=21)"
   ]
  },
  {
   "cell_type": "markdown",
   "metadata": {
    "collapsed": false
   },
   "source": [
    "The distribution of count tag shows that mosts songs will have only a few tags. It will be hard to build a network of similarity with these!"
   ]
  },
  {
   "cell_type": "markdown",
   "metadata": {},
   "source": [
    "# Build a network"
   ]
  },
  {
   "cell_type": "markdown",
   "metadata": {},
   "source": [
    "## Source, target and edges\n",
    "The data we use is a list of tuples ( `artist_id` , `mbtag` ) for 8,838 unique artists, with 1 to 20 tags (average: 2.8).\n",
    "\n",
    "We want to create an undirected network of artists who share common tags: \n",
    "* Sources and targets are the artists (we copy the same dataframe and rename the `id`s.)\n",
    "* Edges will be created by merging the source on the target, using the tags as a common field. Then we remove the edges where the source and targets are the same."
   ]
  },
  {
   "cell_type": "code",
   "execution_count": null,
   "metadata": {
    "collapsed": true
   },
   "outputs": [],
   "source": [
    "source = mbtags.copy().rename(columns={\"artist_id\":\"Source\"})\n",
    "target = mbtags.copy().rename(columns={\"artist_id\":\"Target\"})\n",
    "edges = source.merge(target,on=\"mbtag\",how=\"inner\")\n",
    "edges = edges[edges[\"Source\"] != edges[\"Target\"]]"
   ]
  },
  {
   "cell_type": "code",
   "execution_count": null,
   "metadata": {
    "collapsed": false
   },
   "outputs": [],
   "source": [
    "print(\"There are\", \"{:,}\".format(len(source)), \\\n",
    "      \"sources/targets connected by\",\"{:,}\".format(len(edges)), \"links\")"
   ]
  },
  {
   "cell_type": "code",
   "execution_count": null,
   "metadata": {
    "collapsed": true
   },
   "outputs": [],
   "source": [
    "mbtags[\"nb_tags\"] = mbtags.groupby([\"artist_id\"])[\"mbtag\"].transform(\"count\")"
   ]
  },
  {
   "cell_type": "code",
   "execution_count": null,
   "metadata": {
    "collapsed": false
   },
   "outputs": [],
   "source": [
    "len(mbtags[mbtags[\"nb_tags\"]>4]),len(mbtags[mbtags[\"nb_tags\"]>2]),len(mbtags),"
   ]
  },
  {
   "cell_type": "markdown",
   "metadata": {},
   "source": [
    "## Remove redundant edges\n",
    "This network has 8 millions edges.. with many redundant edges, so we'll add a weight to the edges and drop the duplicates (keep only one link)."
   ]
  },
  {
   "cell_type": "code",
   "execution_count": null,
   "metadata": {
    "collapsed": true
   },
   "outputs": [],
   "source": [
    "edges[\"weight\"] = edges.groupby([\"Source\",\"Target\"])[\"mbtag\"].transform(\"count\")"
   ]
  },
  {
   "cell_type": "code",
   "execution_count": null,
   "metadata": {
    "collapsed": true
   },
   "outputs": [],
   "source": [
    "edges = edges[[\"Source\",\"Target\",\"weight\"]].drop_duplicates()"
   ]
  },
  {
   "cell_type": "code",
   "execution_count": null,
   "metadata": {
    "collapsed": false
   },
   "outputs": [],
   "source": [
    "len(edges)"
   ]
  },
  {
   "cell_type": "markdown",
   "metadata": {},
   "source": [
    "# Add attributes\n",
    "## Artists names\n",
    "The `artist_ids` are not very informative, so we need to use the `track_metadata` dataset in order to add the name of the artists. Since it refers to tracks, there are multiple duplicates for the (artist_id,artist_name) tuples. We'll drop them."
   ]
  },
  {
   "cell_type": "code",
   "execution_count": null,
   "metadata": {
    "collapsed": false
   },
   "outputs": [],
   "source": [
    "tracks = pd.read_sql(\"SELECT artist_id,artist_name FROM songs\",conn_artists)"
   ]
  },
  {
   "cell_type": "code",
   "execution_count": null,
   "metadata": {
    "collapsed": true
   },
   "outputs": [],
   "source": [
    "artists = tracks.drop_duplicates()"
   ]
  },
  {
   "cell_type": "code",
   "execution_count": null,
   "metadata": {
    "collapsed": false
   },
   "outputs": [],
   "source": [
    "print(\"There were\", \"{:,}\".format(len(tracks)),\"tracks, from\", \"{:,}\".format(len(artists)), \"artists\")"
   ]
  },
  {
   "cell_type": "markdown",
   "metadata": {},
   "source": [
    "If we look at the unique names of artists and ids, we realise that there is a discrepancy:"
   ]
  },
  {
   "cell_type": "code",
   "execution_count": null,
   "metadata": {
    "collapsed": false
   },
   "outputs": [],
   "source": [
    "print(len(artists.artist_id.unique()), \"unique artists\")\n",
    "print(len(artists.artist_name.unique()), \"unique artist names\")"
   ]
  },
  {
   "cell_type": "markdown",
   "metadata": {},
   "source": [
    "Argh, it seems that some `artist_id` have duplicate names! \n",
    "\n",
    "e.g. below for ```AROQS6O1187FB3D146```"
   ]
  },
  {
   "cell_type": "code",
   "execution_count": null,
   "metadata": {
    "collapsed": false
   },
   "outputs": [],
   "source": [
    "artists[artists[\"artist_id\"] == \"AROQS6O1187FB3D146\" ]"
   ]
  },
  {
   "cell_type": "markdown",
   "metadata": {},
   "source": [
    "Looking at it, some are mistakes, but most are simply variations of the name), so we'll drop the duplicate `artist_id` and keep only the first corresponding `artist_name`."
   ]
  },
  {
   "cell_type": "code",
   "execution_count": null,
   "metadata": {
    "collapsed": false
   },
   "outputs": [],
   "source": [
    "artists.drop_duplicates(\"artist_id\",inplace=True)"
   ]
  },
  {
   "cell_type": "code",
   "execution_count": null,
   "metadata": {
    "collapsed": false
   },
   "outputs": [],
   "source": [
    "len(artists),len(artists.artist_id.unique()),len(artists.artist_name.unique())"
   ]
  },
  {
   "cell_type": "markdown",
   "metadata": {},
   "source": [
    "## Add Tags list\n",
    "The tags are currently in one column, with one value per row. We want them in one row per artist, so we can use a clever `join` with the pandas `groupby`."
   ]
  },
  {
   "cell_type": "code",
   "execution_count": null,
   "metadata": {
    "collapsed": false
   },
   "outputs": [],
   "source": [
    "mbtags[\"Tags\"] = mbtags.groupby(['artist_id'])['mbtag'].transform(lambda x: ','.join(x))"
   ]
  },
  {
   "cell_type": "code",
   "execution_count": null,
   "metadata": {
    "collapsed": false
   },
   "outputs": [],
   "source": [
    "artists = artists.merge(mbtags.drop_duplicates(\"artist_id\"),how=\"left\")"
   ]
  },
  {
   "cell_type": "code",
   "execution_count": null,
   "metadata": {
    "collapsed": false
   },
   "outputs": [],
   "source": [
    "len(artists),artists.columns"
   ]
  },
  {
   "cell_type": "code",
   "execution_count": null,
   "metadata": {
    "collapsed": false
   },
   "outputs": [],
   "source": [
    "artists[artists[\"artist_id\"] == \"AR00GVV11C8A415A54\"]"
   ]
  },
  {
   "cell_type": "markdown",
   "metadata": {},
   "source": [
    "## Add source names"
   ]
  },
  {
   "cell_type": "code",
   "execution_count": null,
   "metadata": {
    "collapsed": false
   },
   "outputs": [],
   "source": [
    "edges = edges.merge(artists.rename(columns={\"artist_id\":\"Source\"}),\\\n",
    "                      how=\"left\").rename(columns={\"Source\":\"Source_id\",\"artist_name\":\"Source\"})"
   ]
  },
  {
   "cell_type": "code",
   "execution_count": null,
   "metadata": {
    "collapsed": false
   },
   "outputs": [],
   "source": [
    "len(edges)"
   ]
  },
  {
   "cell_type": "code",
   "execution_count": null,
   "metadata": {
    "collapsed": false
   },
   "outputs": [],
   "source": [
    "edges.head()"
   ]
  },
  {
   "cell_type": "markdown",
   "metadata": {},
   "source": [
    "## Add target names"
   ]
  },
  {
   "cell_type": "code",
   "execution_count": null,
   "metadata": {
    "collapsed": false
   },
   "outputs": [],
   "source": [
    "edges = edges.merge(artists,left_on=\"Target\",right_on=\"artist_id\",how=\"left\")"
   ]
  },
  {
   "cell_type": "code",
   "execution_count": null,
   "metadata": {
    "collapsed": false
   },
   "outputs": [],
   "source": [
    "edges = edges.rename(columns={\"Target\":\"Target_id\",\"artist_name\":\"Target\"})[[\"Source\",\"Target\",\"Source_id\",\\\n",
    "                                                                    \"Target_id\",\"weight\"]]"
   ]
  },
  {
   "cell_type": "code",
   "execution_count": null,
   "metadata": {
    "collapsed": false
   },
   "outputs": [],
   "source": [
    "len(edges),edges.columns,len(edges[edges[\"weight\"] > 3])"
   ]
  },
  {
   "cell_type": "markdown",
   "metadata": {},
   "source": [
    "We will keep only the most connected edges: with more than 3 links. We export to `csv` to use in gephi."
   ]
  },
  {
   "cell_type": "code",
   "execution_count": null,
   "metadata": {
    "collapsed": false
   },
   "outputs": [],
   "source": [
    "edges[edges[\"weight\"] > 3][[\"Source\",\"Target\",\"weight\",\"Source_id\",\"Target_id\"]].to_csv(\"edges.csv\",index=None)"
   ]
  },
  {
   "cell_type": "markdown",
   "metadata": {
    "collapsed": true
   },
   "source": [
    "## Get the nodes from the edges"
   ]
  },
  {
   "cell_type": "code",
   "execution_count": null,
   "metadata": {
    "collapsed": false
   },
   "outputs": [],
   "source": [
    "nodes = pd.DataFrame(edges[edges[\"weight\"] > 3][\"Source_id\"].tolist() + \\\n",
    "                     edges[edges[\"weight\"] > 3][\"Target_id\"].tolist(),\\\n",
    "                     columns=[\"artist_id\"]).drop_duplicates()"
   ]
  },
  {
   "cell_type": "code",
   "execution_count": null,
   "metadata": {
    "collapsed": false
   },
   "outputs": [],
   "source": [
    "nodes = nodes.merge(mbtags[[\"artist_id\",\"Tags\"]],how=\"left\").drop_duplicates()"
   ]
  },
  {
   "cell_type": "code",
   "execution_count": null,
   "metadata": {
    "collapsed": false
   },
   "outputs": [],
   "source": [
    "len(nodes),nodes.columns"
   ]
  },
  {
   "cell_type": "code",
   "execution_count": null,
   "metadata": {
    "collapsed": false
   },
   "outputs": [],
   "source": [
    "nodes = nodes.merge(artists,how=\"left\")[[\"artist_name\",\"Tags\"]].rename(columns={\"artist_name\":\"id\"}).drop_duplicates()"
   ]
  },
  {
   "cell_type": "markdown",
   "metadata": {},
   "source": [
    "We export to `csv` to use them in Gephi."
   ]
  },
  {
   "cell_type": "code",
   "execution_count": null,
   "metadata": {
    "collapsed": false
   },
   "outputs": [],
   "source": [
    "nodes.to_csv(\"nodes.csv\",index=None)"
   ]
  }
 ],
 "metadata": {
  "kernelspec": {
   "display_name": "Python 3",
   "language": "python",
   "name": "python3"
  },
  "language_info": {
   "codemirror_mode": {
    "name": "ipython",
    "version": 3
   },
   "file_extension": ".py",
   "mimetype": "text/x-python",
   "name": "python",
   "nbconvert_exporter": "python",
   "pygments_lexer": "ipython3",
   "version": "3.6.3"
  }
 },
 "nbformat": 4,
 "nbformat_minor": 2
}
